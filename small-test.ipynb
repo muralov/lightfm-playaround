{
 "cells": [
  {
   "cell_type": "code",
   "execution_count": 1,
   "id": "6ef92c9a",
   "metadata": {},
   "outputs": [],
   "source": [
    "import pandas as pd\n",
    "import numpy as np\n",
    "from lightfm.data import Dataset\n",
    "from lightfm import LightFM\n",
    "from ast import literal_eval\n",
    "import itertools\n",
    "from lightfm.evaluation import auc_score"
   ]
  },
  {
   "cell_type": "code",
   "execution_count": 2,
   "id": "bf2ec84f",
   "metadata": {},
   "outputs": [
    {
     "data": {
      "text/html": [
       "<div>\n",
       "<style scoped>\n",
       "    .dataframe tbody tr th:only-of-type {\n",
       "        vertical-align: middle;\n",
       "    }\n",
       "\n",
       "    .dataframe tbody tr th {\n",
       "        vertical-align: top;\n",
       "    }\n",
       "\n",
       "    .dataframe thead th {\n",
       "        text-align: right;\n",
       "    }\n",
       "</style>\n",
       "<table border=\"1\" class=\"dataframe\">\n",
       "  <thead>\n",
       "    <tr style=\"text-align: right;\">\n",
       "      <th></th>\n",
       "      <th>user_id</th>\n",
       "      <th>name</th>\n",
       "    </tr>\n",
       "  </thead>\n",
       "  <tbody>\n",
       "    <tr>\n",
       "      <th>0</th>\n",
       "      <td>0</td>\n",
       "      <td>Alice</td>\n",
       "    </tr>\n",
       "    <tr>\n",
       "      <th>1</th>\n",
       "      <td>1</td>\n",
       "      <td>Bob</td>\n",
       "    </tr>\n",
       "    <tr>\n",
       "      <th>2</th>\n",
       "      <td>2</td>\n",
       "      <td>Carol</td>\n",
       "    </tr>\n",
       "    <tr>\n",
       "      <th>3</th>\n",
       "      <td>3</td>\n",
       "      <td>Dave</td>\n",
       "    </tr>\n",
       "  </tbody>\n",
       "</table>\n",
       "</div>"
      ],
      "text/plain": [
       "   user_id   name\n",
       "0        0  Alice\n",
       "1        1    Bob\n",
       "2        2  Carol\n",
       "3        3   Dave"
      ]
     },
     "execution_count": 2,
     "metadata": {},
     "output_type": "execute_result"
    }
   ],
   "source": [
    "users = {'user_id': [0, 1, 2, 3], 'name': ['Alice', 'Bob', 'Carol', 'Dave']}\n",
    "users = pd.DataFrame(data=users)\n",
    "users"
   ]
  },
  {
   "cell_type": "code",
   "execution_count": 3,
   "id": "67951706",
   "metadata": {},
   "outputs": [
    {
     "data": {
      "text/html": [
       "<div>\n",
       "<style scoped>\n",
       "    .dataframe tbody tr th:only-of-type {\n",
       "        vertical-align: middle;\n",
       "    }\n",
       "\n",
       "    .dataframe tbody tr th {\n",
       "        vertical-align: top;\n",
       "    }\n",
       "\n",
       "    .dataframe thead th {\n",
       "        text-align: right;\n",
       "    }\n",
       "</style>\n",
       "<table border=\"1\" class=\"dataframe\">\n",
       "  <thead>\n",
       "    <tr style=\"text-align: right;\">\n",
       "      <th></th>\n",
       "      <th>movie_id</th>\n",
       "      <th>name</th>\n",
       "      <th>romance</th>\n",
       "      <th>action</th>\n",
       "    </tr>\n",
       "  </thead>\n",
       "  <tbody>\n",
       "    <tr>\n",
       "      <th>0</th>\n",
       "      <td>0</td>\n",
       "      <td>Love at last</td>\n",
       "      <td>0.90</td>\n",
       "      <td>0.00</td>\n",
       "    </tr>\n",
       "    <tr>\n",
       "      <th>1</th>\n",
       "      <td>1</td>\n",
       "      <td>Romance forever</td>\n",
       "      <td>1.00</td>\n",
       "      <td>0.01</td>\n",
       "    </tr>\n",
       "    <tr>\n",
       "      <th>2</th>\n",
       "      <td>2</td>\n",
       "      <td>Cute puppies of love</td>\n",
       "      <td>0.99</td>\n",
       "      <td>0.00</td>\n",
       "    </tr>\n",
       "    <tr>\n",
       "      <th>3</th>\n",
       "      <td>3</td>\n",
       "      <td>Nonstop car chases</td>\n",
       "      <td>0.10</td>\n",
       "      <td>1.00</td>\n",
       "    </tr>\n",
       "    <tr>\n",
       "      <th>4</th>\n",
       "      <td>4</td>\n",
       "      <td>Swords vs. karate</td>\n",
       "      <td>0.00</td>\n",
       "      <td>0.90</td>\n",
       "    </tr>\n",
       "  </tbody>\n",
       "</table>\n",
       "</div>"
      ],
      "text/plain": [
       "   movie_id                  name  romance  action\n",
       "0         0          Love at last     0.90    0.00\n",
       "1         1       Romance forever     1.00    0.01\n",
       "2         2  Cute puppies of love     0.99    0.00\n",
       "3         3    Nonstop car chases     0.10    1.00\n",
       "4         4     Swords vs. karate     0.00    0.90"
      ]
     },
     "execution_count": 3,
     "metadata": {},
     "output_type": "execute_result"
    }
   ],
   "source": [
    "movies = {'movie_id': [0, 1, 2, 3, 4], \n",
    "          'name': ['Love at last', 'Romance forever', 'Cute puppies of love', 'Nonstop car chases', 'Swords vs. karate'],\n",
    "          'romance': [0.9, 1.0, 0.99, 0.1, 0], \n",
    "          'action': [0, 0.01, 0, 1.0, 0.9]}\n",
    "movies = pd.DataFrame(data=movies)\n",
    "movies"
   ]
  },
  {
   "cell_type": "code",
   "execution_count": 4,
   "id": "1571ab9b",
   "metadata": {
    "scrolled": true
   },
   "outputs": [
    {
     "data": {
      "text/html": [
       "<div>\n",
       "<style scoped>\n",
       "    .dataframe tbody tr th:only-of-type {\n",
       "        vertical-align: middle;\n",
       "    }\n",
       "\n",
       "    .dataframe tbody tr th {\n",
       "        vertical-align: top;\n",
       "    }\n",
       "\n",
       "    .dataframe thead th {\n",
       "        text-align: right;\n",
       "    }\n",
       "</style>\n",
       "<table border=\"1\" class=\"dataframe\">\n",
       "  <thead>\n",
       "    <tr style=\"text-align: right;\">\n",
       "      <th></th>\n",
       "      <th>user_id</th>\n",
       "      <th>movie_id</th>\n",
       "      <th>rating</th>\n",
       "    </tr>\n",
       "  </thead>\n",
       "  <tbody>\n",
       "    <tr>\n",
       "      <th>0</th>\n",
       "      <td>0</td>\n",
       "      <td>0</td>\n",
       "      <td>5.0</td>\n",
       "    </tr>\n",
       "    <tr>\n",
       "      <th>1</th>\n",
       "      <td>0</td>\n",
       "      <td>1</td>\n",
       "      <td>5.0</td>\n",
       "    </tr>\n",
       "    <tr>\n",
       "      <th>3</th>\n",
       "      <td>0</td>\n",
       "      <td>3</td>\n",
       "      <td>0.0</td>\n",
       "    </tr>\n",
       "    <tr>\n",
       "      <th>4</th>\n",
       "      <td>0</td>\n",
       "      <td>4</td>\n",
       "      <td>0.0</td>\n",
       "    </tr>\n",
       "    <tr>\n",
       "      <th>5</th>\n",
       "      <td>1</td>\n",
       "      <td>0</td>\n",
       "      <td>5.0</td>\n",
       "    </tr>\n",
       "    <tr>\n",
       "      <th>7</th>\n",
       "      <td>1</td>\n",
       "      <td>2</td>\n",
       "      <td>4.0</td>\n",
       "    </tr>\n",
       "    <tr>\n",
       "      <th>8</th>\n",
       "      <td>1</td>\n",
       "      <td>3</td>\n",
       "      <td>0.0</td>\n",
       "    </tr>\n",
       "    <tr>\n",
       "      <th>9</th>\n",
       "      <td>1</td>\n",
       "      <td>4</td>\n",
       "      <td>0.0</td>\n",
       "    </tr>\n",
       "    <tr>\n",
       "      <th>10</th>\n",
       "      <td>2</td>\n",
       "      <td>0</td>\n",
       "      <td>0.0</td>\n",
       "    </tr>\n",
       "    <tr>\n",
       "      <th>12</th>\n",
       "      <td>2</td>\n",
       "      <td>2</td>\n",
       "      <td>0.0</td>\n",
       "    </tr>\n",
       "    <tr>\n",
       "      <th>13</th>\n",
       "      <td>2</td>\n",
       "      <td>3</td>\n",
       "      <td>5.0</td>\n",
       "    </tr>\n",
       "    <tr>\n",
       "      <th>14</th>\n",
       "      <td>2</td>\n",
       "      <td>4</td>\n",
       "      <td>5.0</td>\n",
       "    </tr>\n",
       "    <tr>\n",
       "      <th>15</th>\n",
       "      <td>3</td>\n",
       "      <td>0</td>\n",
       "      <td>0.0</td>\n",
       "    </tr>\n",
       "    <tr>\n",
       "      <th>16</th>\n",
       "      <td>3</td>\n",
       "      <td>1</td>\n",
       "      <td>0.0</td>\n",
       "    </tr>\n",
       "    <tr>\n",
       "      <th>18</th>\n",
       "      <td>3</td>\n",
       "      <td>3</td>\n",
       "      <td>4.0</td>\n",
       "    </tr>\n",
       "  </tbody>\n",
       "</table>\n",
       "</div>"
      ],
      "text/plain": [
       "    user_id  movie_id  rating\n",
       "0         0         0     5.0\n",
       "1         0         1     5.0\n",
       "3         0         3     0.0\n",
       "4         0         4     0.0\n",
       "5         1         0     5.0\n",
       "7         1         2     4.0\n",
       "8         1         3     0.0\n",
       "9         1         4     0.0\n",
       "10        2         0     0.0\n",
       "12        2         2     0.0\n",
       "13        2         3     5.0\n",
       "14        2         4     5.0\n",
       "15        3         0     0.0\n",
       "16        3         1     0.0\n",
       "18        3         3     4.0"
      ]
     },
     "execution_count": 4,
     "metadata": {},
     "output_type": "execute_result"
    }
   ],
   "source": [
    "rating = {'user_id':  [0,0,0,0,0,  1,1,1,1,1,  2,2,2,2,2,  3,3,3,3,3],\n",
    "          'movie_id': [0,1,2,3,4,  0,1,2,3,4,  0,1,2,3,4,  0,1,2,3,4],\n",
    "          'rating':   [5,5,np.nan,0,0, 5,np.nan,4,0,0, 0,np.nan,0,5,5, 0,0,np.nan,4,np.nan]}\n",
    "rating = pd.DataFrame(data=rating)\n",
    "rating = rating.dropna()\n",
    "rating"
   ]
  },
  {
   "cell_type": "markdown",
   "id": "a538b9bb",
   "metadata": {},
   "source": [
    "###### Create Dataset"
   ]
  },
  {
   "cell_type": "code",
   "execution_count": 5,
   "id": "a97856a6",
   "metadata": {},
   "outputs": [
    {
     "name": "stdout",
     "output_type": "stream",
     "text": [
      "Num users: 4, num_items: 5.\n"
     ]
    }
   ],
   "source": [
    "from lightfm.data import Dataset\n",
    "dataset = Dataset()\n",
    "dataset.fit(rating['user_id'].unique(), rating['movie_id'].unique())\n",
    "\n",
    "num_users, num_items = dataset.interactions_shape()\n",
    "print('Num users: {}, num_items: {}.'.format(num_users, num_items))"
   ]
  },
  {
   "cell_type": "code",
   "execution_count": 6,
   "id": "800eb1fb",
   "metadata": {},
   "outputs": [
    {
     "name": "stdout",
     "output_type": "stream",
     "text": [
      "['romance:0.9', 'romance:1.0', 'romance:0.99', 'romance:0.1', 'romance:0.0', 'action:0.0', 'action:0.01', 'action:1.0', 'action:0.9']\n"
     ]
    }
   ],
   "source": [
    "item_fs = []\n",
    "col_names = ['romance']*len(movies.romance.unique()) + ['action']*len(movies.action.unique())\n",
    "values = list(movies.romance.unique()) + list(movies.action.unique())\n",
    "for n,v in zip(col_names, values):\n",
    "    res = str(n)+ \":\" +str(v)\n",
    "    item_fs.append(res)\n",
    "    \n",
    "print(item_fs)\n",
    "    \n",
    "dataset.fit_partial(items=rating['movie_id'].unique(), item_features=item_fs)"
   ]
  },
  {
   "cell_type": "markdown",
   "id": "c69acfa3",
   "metadata": {},
   "source": [
    "#### Building the interactions matrix"
   ]
  },
  {
   "cell_type": "code",
   "execution_count": 7,
   "id": "de29b1fc",
   "metadata": {},
   "outputs": [
    {
     "name": "stdout",
     "output_type": "stream",
     "text": [
      "<4x5 sparse matrix of type '<class 'numpy.int32'>'\n",
      "\twith 15 stored elements in COOrdinate format>\n"
     ]
    },
    {
     "data": {
      "text/plain": [
       "matrix([[1, 1, 1, 1, 0],\n",
       "        [1, 0, 1, 1, 1],\n",
       "        [1, 0, 1, 1, 1],\n",
       "        [1, 1, 1, 0, 0]], dtype=int32)"
      ]
     },
     "execution_count": 7,
     "metadata": {},
     "output_type": "execute_result"
    }
   ],
   "source": [
    "(interactions, weights) = dataset.build_interactions(((r['user_id'], r['movie_id'], r['rating']) for i,r in rating.iterrows()))\n",
    "print(repr(interactions))\n",
    "\n",
    "interactions.todense()"
   ]
  },
  {
   "cell_type": "code",
   "execution_count": 8,
   "id": "d8f5d28c",
   "metadata": {},
   "outputs": [
    {
     "data": {
      "text/plain": [
       "matrix([[5., 5., 0., 0., 0.],\n",
       "        [5., 0., 0., 0., 4.],\n",
       "        [0., 0., 5., 5., 0.],\n",
       "        [0., 0., 4., 0., 0.]], dtype=float32)"
      ]
     },
     "execution_count": 8,
     "metadata": {},
     "output_type": "execute_result"
    }
   ],
   "source": [
    "weights.todense()"
   ]
  },
  {
   "cell_type": "code",
   "execution_count": 9,
   "id": "b16b02da",
   "metadata": {},
   "outputs": [
    {
     "name": "stdout",
     "output_type": "stream",
     "text": [
      "<5x14 sparse matrix of type '<class 'numpy.float32'>'\n",
      "\twith 15 stored elements in Compressed Sparse Row format>\n"
     ]
    },
    {
     "data": {
      "text/plain": [
       "matrix([[0.33333334, 0.        , 0.        , 0.        , 0.        ,\n",
       "         0.33333334, 0.        , 0.        , 0.        , 0.        ,\n",
       "         0.33333334, 0.        , 0.        , 0.        ],\n",
       "        [0.        , 0.33333334, 0.        , 0.        , 0.        ,\n",
       "         0.        , 0.33333334, 0.        , 0.        , 0.        ,\n",
       "         0.        , 0.33333334, 0.        , 0.        ],\n",
       "        [0.        , 0.        , 0.33333334, 0.        , 0.        ,\n",
       "         0.        , 0.        , 0.        , 0.33333334, 0.        ,\n",
       "         0.        , 0.        , 0.33333334, 0.        ],\n",
       "        [0.        , 0.        , 0.        , 0.33333334, 0.        ,\n",
       "         0.        , 0.        , 0.        , 0.        , 0.33333334,\n",
       "         0.        , 0.        , 0.        , 0.33333334],\n",
       "        [0.        , 0.        , 0.        , 0.        , 0.33333334,\n",
       "         0.        , 0.        , 0.33333334, 0.        , 0.        ,\n",
       "         0.33333334, 0.        , 0.        , 0.        ]], dtype=float32)"
      ]
     },
     "execution_count": 9,
     "metadata": {},
     "output_type": "execute_result"
    }
   ],
   "source": [
    "f_tuple = [(x['movie_id'], ['romance:'+str(x['romance']), 'action:'+str(x['action'])]) for i, x in movies.iterrows()]\n",
    "\n",
    "item_features = dataset.build_item_features(f_tuple)\n",
    "print(repr(item_features))\n",
    "\n",
    "item_features.todense()"
   ]
  },
  {
   "cell_type": "code",
   "execution_count": 10,
   "id": "dfd08373",
   "metadata": {},
   "outputs": [
    {
     "data": {
      "text/plain": [
       "{0: 0,\n",
       " 1: 1,\n",
       " 3: 2,\n",
       " 4: 3,\n",
       " 2: 4,\n",
       " 'romance:0.9': 5,\n",
       " 'romance:1.0': 6,\n",
       " 'romance:0.99': 7,\n",
       " 'romance:0.1': 8,\n",
       " 'romance:0.0': 9,\n",
       " 'action:0.0': 10,\n",
       " 'action:0.01': 11,\n",
       " 'action:1.0': 12,\n",
       " 'action:0.9': 13}"
      ]
     },
     "execution_count": 10,
     "metadata": {},
     "output_type": "execute_result"
    }
   ],
   "source": [
    "user_id_map, user_feature_map, item_id_map, item_feature_map = dataset.mapping()\n",
    "item_feature_map"
   ]
  },
  {
   "cell_type": "code",
   "execution_count": 11,
   "id": "750e2964",
   "metadata": {},
   "outputs": [
    {
     "name": "stdout",
     "output_type": "stream",
     "text": [
      "Hybrid training set AUC: 0.8541667\n"
     ]
    }
   ],
   "source": [
    "model = LightFM(loss='warp')\n",
    "model.fit(interactions,\n",
    "      item_features=item_features,\n",
    "      epochs=10)\n",
    "\n",
    "train_auc = auc_score(model,\n",
    "                      interactions,\n",
    "                      item_features=item_features\n",
    "                     ).mean()\n",
    "print('Hybrid training set AUC: %s' % train_auc)"
   ]
  },
  {
   "cell_type": "code",
   "execution_count": null,
   "id": "45fd4035",
   "metadata": {},
   "outputs": [],
   "source": []
  },
  {
   "cell_type": "markdown",
   "id": "dde20522",
   "metadata": {},
   "source": [
    "##### predict for existing user"
   ]
  },
  {
   "cell_type": "code",
   "execution_count": 12,
   "id": "34ac5357",
   "metadata": {},
   "outputs": [
    {
     "name": "stdout",
     "output_type": "stream",
     "text": [
      "Scores:\n",
      "-0.07903245\n",
      "-0.6121537\n",
      "-0.1378657\n",
      "-0.25254738\n",
      "-0.4651792\n",
      "Recommended item: ['Love at last' 'Cute puppies of love']\n"
     ]
    }
   ],
   "source": [
    "movie_names = movies['name'].values\n",
    "\n",
    "def sample_recommendation(model, data, user_id):\n",
    "    n_user, n_items = data.shape\n",
    "    scores = model.predict(user_id, np.arange(n_items))\n",
    "    print(\"Scores:\")\n",
    "    for i in scores:\n",
    "        print(i)\n",
    "    top_items_for_user = movie_names[np.argsort(-scores)]\n",
    "    print(\"Recommended item: %s\" % top_items_for_user[:2])\n",
    "    \n",
    "sample_recommendation(model, interactions, 2)"
   ]
  },
  {
   "cell_type": "code",
   "execution_count": 13,
   "id": "bb563362",
   "metadata": {},
   "outputs": [
    {
     "name": "stdout",
     "output_type": "stream",
     "text": [
      "Scores:\n",
      "-0.11251749\n",
      "-0.640653\n",
      "-0.1696778\n",
      "-0.29636925\n",
      "-0.5068698\n",
      "Recommended item: ['Love at last' 'Cute puppies of love']\n"
     ]
    }
   ],
   "source": [
    "sample_recommendation(model, interactions, 3)"
   ]
  },
  {
   "cell_type": "code",
   "execution_count": null,
   "id": "0a8e5142",
   "metadata": {},
   "outputs": [],
   "source": []
  },
  {
   "cell_type": "code",
   "execution_count": null,
   "id": "b71dbb83",
   "metadata": {},
   "outputs": [],
   "source": []
  }
 ],
 "metadata": {
  "kernelspec": {
   "display_name": "Python 3 (ipykernel)",
   "language": "python",
   "name": "python3"
  },
  "language_info": {
   "codemirror_mode": {
    "name": "ipython",
    "version": 3
   },
   "file_extension": ".py",
   "mimetype": "text/x-python",
   "name": "python",
   "nbconvert_exporter": "python",
   "pygments_lexer": "ipython3",
   "version": "3.8.10"
  }
 },
 "nbformat": 4,
 "nbformat_minor": 5
}
