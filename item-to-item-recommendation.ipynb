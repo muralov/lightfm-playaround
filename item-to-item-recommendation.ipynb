{
 "cells": [
  {
   "cell_type": "code",
   "execution_count": 154,
   "id": "6ef92c9a",
   "metadata": {},
   "outputs": [],
   "source": [
    "import pandas as pd\n",
    "import numpy as np\n",
    "from lightfm.data import Dataset\n",
    "from lightfm import LightFM\n",
    "from ast import literal_eval\n",
    "import itertools\n",
    "from lightfm.evaluation import auc_score"
   ]
  },
  {
   "cell_type": "code",
   "execution_count": 155,
   "id": "bf2ec84f",
   "metadata": {},
   "outputs": [
    {
     "data": {
      "text/html": [
       "<div>\n",
       "<style scoped>\n",
       "    .dataframe tbody tr th:only-of-type {\n",
       "        vertical-align: middle;\n",
       "    }\n",
       "\n",
       "    .dataframe tbody tr th {\n",
       "        vertical-align: top;\n",
       "    }\n",
       "\n",
       "    .dataframe thead th {\n",
       "        text-align: right;\n",
       "    }\n",
       "</style>\n",
       "<table border=\"1\" class=\"dataframe\">\n",
       "  <thead>\n",
       "    <tr style=\"text-align: right;\">\n",
       "      <th></th>\n",
       "      <th>user_id</th>\n",
       "      <th>name</th>\n",
       "    </tr>\n",
       "  </thead>\n",
       "  <tbody>\n",
       "    <tr>\n",
       "      <th>0</th>\n",
       "      <td>0</td>\n",
       "      <td>Jana</td>\n",
       "    </tr>\n",
       "    <tr>\n",
       "      <th>1</th>\n",
       "      <td>1</td>\n",
       "      <td>Ilya</td>\n",
       "    </tr>\n",
       "    <tr>\n",
       "      <th>2</th>\n",
       "      <td>2</td>\n",
       "      <td>Mansur</td>\n",
       "    </tr>\n",
       "  </tbody>\n",
       "</table>\n",
       "</div>"
      ],
      "text/plain": [
       "   user_id    name\n",
       "0        0    Jana\n",
       "1        1    Ilya\n",
       "2        2  Mansur"
      ]
     },
     "execution_count": 155,
     "metadata": {},
     "output_type": "execute_result"
    }
   ],
   "source": [
    "users = {'user_id': [0, 1, 2], 'name': ['Jana', 'Ilya', 'Mansur']}\n",
    "users = pd.DataFrame(data=users)\n",
    "users"
   ]
  },
  {
   "cell_type": "code",
   "execution_count": 156,
   "id": "67951706",
   "metadata": {},
   "outputs": [
    {
     "data": {
      "text/html": [
       "<div>\n",
       "<style scoped>\n",
       "    .dataframe tbody tr th:only-of-type {\n",
       "        vertical-align: middle;\n",
       "    }\n",
       "\n",
       "    .dataframe tbody tr th {\n",
       "        vertical-align: top;\n",
       "    }\n",
       "\n",
       "    .dataframe thead th {\n",
       "        text-align: right;\n",
       "    }\n",
       "</style>\n",
       "<table border=\"1\" class=\"dataframe\">\n",
       "  <thead>\n",
       "    <tr style=\"text-align: right;\">\n",
       "      <th></th>\n",
       "      <th>id</th>\n",
       "      <th>name</th>\n",
       "      <th>ingredients</th>\n",
       "      <th>tags</th>\n",
       "    </tr>\n",
       "  </thead>\n",
       "  <tbody>\n",
       "    <tr>\n",
       "      <th>0</th>\n",
       "      <td>0</td>\n",
       "      <td>Lamb Curry</td>\n",
       "      <td>[lamb, curry, oil, water, salt]</td>\n",
       "      <td>non-veg</td>\n",
       "    </tr>\n",
       "    <tr>\n",
       "      <th>1</th>\n",
       "      <td>1</td>\n",
       "      <td>Chicken Curry</td>\n",
       "      <td>[chicken, curry, oil, water, salt]</td>\n",
       "      <td>non-veg</td>\n",
       "    </tr>\n",
       "    <tr>\n",
       "      <th>2</th>\n",
       "      <td>2</td>\n",
       "      <td>Vegetable Curry</td>\n",
       "      <td>[curry, oil, water, salt]</td>\n",
       "      <td>veg</td>\n",
       "    </tr>\n",
       "    <tr>\n",
       "      <th>3</th>\n",
       "      <td>3</td>\n",
       "      <td>Fried Rice</td>\n",
       "      <td>[rice, chicken, eggs, beans, butter, salt]</td>\n",
       "      <td>non-veg</td>\n",
       "    </tr>\n",
       "    <tr>\n",
       "      <th>4</th>\n",
       "      <td>4</td>\n",
       "      <td>Vegetable Fried Rice</td>\n",
       "      <td>[rice, eggs, butter, beans, salt]</td>\n",
       "      <td>veg</td>\n",
       "    </tr>\n",
       "    <tr>\n",
       "      <th>5</th>\n",
       "      <td>5</td>\n",
       "      <td>Lamb Fried Rice</td>\n",
       "      <td>[rice, lamb, eggs, butter, salt]</td>\n",
       "      <td>non-veg</td>\n",
       "    </tr>\n",
       "    <tr>\n",
       "      <th>6</th>\n",
       "      <td>6</td>\n",
       "      <td>Pho Soup</td>\n",
       "      <td>[noodle, beef, kardamon, oil, water, salt, pep...</td>\n",
       "      <td>non-veg</td>\n",
       "    </tr>\n",
       "    <tr>\n",
       "      <th>7</th>\n",
       "      <td>7</td>\n",
       "      <td>Lamb Soup</td>\n",
       "      <td>[lamb, potatoes, carrots, kardamon, oil, water...</td>\n",
       "      <td>non-veg</td>\n",
       "    </tr>\n",
       "    <tr>\n",
       "      <th>8</th>\n",
       "      <td>8</td>\n",
       "      <td>Lens Soup</td>\n",
       "      <td>[lens, potatoes, carrots, oil, water, salt, pe...</td>\n",
       "      <td>veg</td>\n",
       "    </tr>\n",
       "  </tbody>\n",
       "</table>\n",
       "</div>"
      ],
      "text/plain": [
       "   id                  name  \\\n",
       "0   0            Lamb Curry   \n",
       "1   1         Chicken Curry   \n",
       "2   2       Vegetable Curry   \n",
       "3   3            Fried Rice   \n",
       "4   4  Vegetable Fried Rice   \n",
       "5   5       Lamb Fried Rice   \n",
       "6   6              Pho Soup   \n",
       "7   7             Lamb Soup   \n",
       "8   8             Lens Soup   \n",
       "\n",
       "                                         ingredients     tags  \n",
       "0                    [lamb, curry, oil, water, salt]  non-veg  \n",
       "1                 [chicken, curry, oil, water, salt]  non-veg  \n",
       "2                          [curry, oil, water, salt]      veg  \n",
       "3         [rice, chicken, eggs, beans, butter, salt]  non-veg  \n",
       "4                  [rice, eggs, butter, beans, salt]      veg  \n",
       "5                   [rice, lamb, eggs, butter, salt]  non-veg  \n",
       "6  [noodle, beef, kardamon, oil, water, salt, pep...  non-veg  \n",
       "7  [lamb, potatoes, carrots, kardamon, oil, water...  non-veg  \n",
       "8  [lens, potatoes, carrots, oil, water, salt, pe...      veg  "
      ]
     },
     "execution_count": 156,
     "metadata": {},
     "output_type": "execute_result"
    }
   ],
   "source": [
    "recipes = {'id': [0, 1, 2, 3, 4, 5, 6, 7, 8], \n",
    "          'name': ['Lamb Curry', 'Chicken Curry', 'Vegetable Curry', \n",
    "                   'Fried Rice', 'Vegetable Fried Rice', 'Lamb Fried Rice', \n",
    "                   'Pho Soup', 'Lamb Soup', 'Lens Soup'],\n",
    "          'ingredients': \n",
    "               [['lamb', 'curry', 'oil', 'water', 'salt'], \n",
    "               ['chicken', 'curry', 'oil', 'water', 'salt'],\n",
    "               ['curry', 'oil', 'water', 'salt'],           \n",
    "           \n",
    "               ['rice', 'chicken', 'eggs', 'beans', 'butter', 'salt'], \n",
    "               ['rice', 'eggs', 'butter', 'beans', 'salt'], \n",
    "               ['rice', 'lamb', 'eggs', 'butter', 'salt'],           \n",
    "           \n",
    "               ['noodle', 'beef', 'kardamon', 'oil', 'water', 'salt', 'pepper', 'chile', 'onions'], \n",
    "               ['lamb', 'potatoes', 'carrots', 'kardamon', 'oil', 'water', 'salt', 'pepper', 'onions'],\n",
    "               ['lens', 'potatoes', 'carrots', 'oil', 'water', 'salt', 'pepper', 'onions']],\n",
    "           'tags':\n",
    "               ['non-veg', 'non-veg', 'veg', 'non-veg', 'veg', 'non-veg', 'non-veg', 'non-veg', 'veg']\n",
    "          }\n",
    "recipes = pd.DataFrame(data=recipes)\n",
    "recipes"
   ]
  },
  {
   "cell_type": "code",
   "execution_count": 158,
   "id": "1571ab9b",
   "metadata": {
    "scrolled": true
   },
   "outputs": [
    {
     "data": {
      "text/html": [
       "<div>\n",
       "<style scoped>\n",
       "    .dataframe tbody tr th:only-of-type {\n",
       "        vertical-align: middle;\n",
       "    }\n",
       "\n",
       "    .dataframe tbody tr th {\n",
       "        vertical-align: top;\n",
       "    }\n",
       "\n",
       "    .dataframe thead th {\n",
       "        text-align: right;\n",
       "    }\n",
       "</style>\n",
       "<table border=\"1\" class=\"dataframe\">\n",
       "  <thead>\n",
       "    <tr style=\"text-align: right;\">\n",
       "      <th></th>\n",
       "      <th>user_id</th>\n",
       "      <th>recipe_id</th>\n",
       "      <th>rating</th>\n",
       "    </tr>\n",
       "  </thead>\n",
       "  <tbody>\n",
       "    <tr>\n",
       "      <th>0</th>\n",
       "      <td>0</td>\n",
       "      <td>0</td>\n",
       "      <td>1.0</td>\n",
       "    </tr>\n",
       "    <tr>\n",
       "      <th>1</th>\n",
       "      <td>0</td>\n",
       "      <td>1</td>\n",
       "      <td>1.7</td>\n",
       "    </tr>\n",
       "    <tr>\n",
       "      <th>2</th>\n",
       "      <td>0</td>\n",
       "      <td>2</td>\n",
       "      <td>2.0</td>\n",
       "    </tr>\n",
       "    <tr>\n",
       "      <th>3</th>\n",
       "      <td>0</td>\n",
       "      <td>3</td>\n",
       "      <td>0.0</td>\n",
       "    </tr>\n",
       "    <tr>\n",
       "      <th>4</th>\n",
       "      <td>0</td>\n",
       "      <td>4</td>\n",
       "      <td>1.0</td>\n",
       "    </tr>\n",
       "    <tr>\n",
       "      <th>5</th>\n",
       "      <td>0</td>\n",
       "      <td>5</td>\n",
       "      <td>0.0</td>\n",
       "    </tr>\n",
       "    <tr>\n",
       "      <th>6</th>\n",
       "      <td>0</td>\n",
       "      <td>6</td>\n",
       "      <td>4.0</td>\n",
       "    </tr>\n",
       "    <tr>\n",
       "      <th>7</th>\n",
       "      <td>0</td>\n",
       "      <td>7</td>\n",
       "      <td>4.0</td>\n",
       "    </tr>\n",
       "    <tr>\n",
       "      <th>8</th>\n",
       "      <td>0</td>\n",
       "      <td>8</td>\n",
       "      <td>5.0</td>\n",
       "    </tr>\n",
       "    <tr>\n",
       "      <th>9</th>\n",
       "      <td>1</td>\n",
       "      <td>0</td>\n",
       "      <td>5.0</td>\n",
       "    </tr>\n",
       "  </tbody>\n",
       "</table>\n",
       "</div>"
      ],
      "text/plain": [
       "   user_id  recipe_id  rating\n",
       "0        0          0     1.0\n",
       "1        0          1     1.7\n",
       "2        0          2     2.0\n",
       "3        0          3     0.0\n",
       "4        0          4     1.0\n",
       "5        0          5     0.0\n",
       "6        0          6     4.0\n",
       "7        0          7     4.0\n",
       "8        0          8     5.0\n",
       "9        1          0     5.0"
      ]
     },
     "execution_count": 158,
     "metadata": {},
     "output_type": "execute_result"
    }
   ],
   "source": [
    "#rating = {'user_id':  [0,0,0,0,0,0,0,0,0,  1,1,1,1,1,1,1,1,1,  2,2,2,2,2,2,2,2,2],\n",
    "#          'recipe_id': [0,1,2,3,4,5,6,7,8,  0,1,2,3,4,5,6,7,8,  0,1,2,3,4,5,6,7,8],\n",
    "#          'rating':   [1,1.7,2,0,1,np.nan,np.nan,4,5,  \n",
    "#                       5,4.5,np.nan,3,0,2,1,1.5,np.nan,\n",
    "#                       np.nan,3,2.7,5,np.nan,4,1.5,0,1]}\n",
    "\n",
    "rating = {'user_id':  [0,0,0,0,0,0,0,0,0,  1,1,1,1,1,1,1,1,1,  2,2,2,2,2,2,2,2,2],\n",
    "          'recipe_id': [0,1,2,3,4,5,6,7,8,  0,1,2,3,4,5,6,7,8,  0,1,2,3,4,5,6,7,8],\n",
    "          'rating':   [1,1.7,2,0,1,0,4,4,5,  \n",
    "                       5,4.5,3.7,3,0,2,1,1.5,0,\n",
    "                       2,3,2.7,5,4,4,1.5,0,1]}\n",
    "\n",
    "rating = pd.DataFrame(data=rating)\n",
    "rating = rating.dropna()\n",
    "rating.head(10)"
   ]
  },
  {
   "cell_type": "markdown",
   "id": "a538b9bb",
   "metadata": {},
   "source": [
    "###### Create Dataset"
   ]
  },
  {
   "cell_type": "code",
   "execution_count": 160,
   "id": "a97856a6",
   "metadata": {},
   "outputs": [
    {
     "name": "stdout",
     "output_type": "stream",
     "text": [
      "Num users: 3, num_items: 9.\n"
     ]
    }
   ],
   "source": [
    "from lightfm.data import Dataset\n",
    "from ast import literal_eval\n",
    "\n",
    "unique_feature_names = set(itertools.chain.from_iterable(recipes['ingredients']))\n",
    "\n",
    "dataset = Dataset()\n",
    "dataset.fit(rating['user_id'].unique(), rating['recipe_id'].unique(), item_features=unique_feature_names)\n",
    "\n",
    "num_users, num_items = dataset.interactions_shape()\n",
    "print('Num users: {}, num_items: {}.'.format(num_users, num_items))"
   ]
  },
  {
   "cell_type": "markdown",
   "id": "940f4a68",
   "metadata": {},
   "source": [
    "###### Building unique feature names"
   ]
  },
  {
   "cell_type": "code",
   "execution_count": 141,
   "id": "9c624b28",
   "metadata": {},
   "outputs": [],
   "source": [
    "#from ast import literal_eval\n",
    "\n",
    "#unique_feature_names = set(itertools.chain.from_iterable(recipes['ingredients']))\n",
    "\n",
    "##unique_tags = set(recipes['tags'])\n",
    "\n",
    "##unique_feature_names.update(unique_tags)\n",
    "\n",
    "#dataset.fit_partial(items=rating['recipe_id'].unique(), item_features=unique_feature_names)"
   ]
  },
  {
   "cell_type": "markdown",
   "id": "c69acfa3",
   "metadata": {},
   "source": [
    "#### Building the interactions matrix"
   ]
  },
  {
   "cell_type": "code",
   "execution_count": 163,
   "id": "de29b1fc",
   "metadata": {},
   "outputs": [
    {
     "name": "stdout",
     "output_type": "stream",
     "text": [
      "<3x9 sparse matrix of type '<class 'numpy.int32'>'\n",
      "\twith 27 stored elements in COOrdinate format>\n"
     ]
    },
    {
     "data": {
      "text/plain": [
       "matrix([[1, 1, 1, 1, 1, 1, 1, 1, 1],\n",
       "        [1, 1, 1, 1, 1, 1, 1, 1, 1],\n",
       "        [1, 1, 1, 1, 1, 1, 1, 1, 1]], dtype=int32)"
      ]
     },
     "execution_count": 163,
     "metadata": {},
     "output_type": "execute_result"
    }
   ],
   "source": [
    "(interactions, weights) = dataset.build_interactions(((r['user_id'], r['recipe_id']) \n",
    "                                                      for i,r in rating.iterrows()))\n",
    "print(repr(interactions))\n",
    "\n",
    "interactions.todense()"
   ]
  },
  {
   "cell_type": "code",
   "execution_count": 164,
   "id": "d8f5d28c",
   "metadata": {},
   "outputs": [
    {
     "data": {
      "text/plain": [
       "matrix([[1., 1., 1., 1., 1., 1., 1., 1., 1.],\n",
       "        [1., 1., 1., 1., 1., 1., 1., 1., 1.],\n",
       "        [1., 1., 1., 1., 1., 1., 1., 1., 1.]], dtype=float32)"
      ]
     },
     "execution_count": 164,
     "metadata": {},
     "output_type": "execute_result"
    }
   ],
   "source": [
    "weights.todense()"
   ]
  },
  {
   "cell_type": "code",
   "execution_count": 166,
   "id": "b16b02da",
   "metadata": {},
   "outputs": [
    {
     "name": "stdout",
     "output_type": "stream",
     "text": [
      "<9x28 sparse matrix of type '<class 'numpy.float32'>'\n",
      "\twith 65 stored elements in Compressed Sparse Row format>\n"
     ]
    },
    {
     "data": {
      "text/plain": [
       "matrix([[0.16666667, 0.        , 0.        , 0.        , 0.        ,\n",
       "         0.        , 0.        , 0.        , 0.        , 0.        ,\n",
       "         0.16666667, 0.        , 0.        , 0.        , 0.        ,\n",
       "         0.        , 0.        , 0.16666667, 0.        , 0.        ,\n",
       "         0.        , 0.16666667, 0.16666667, 0.        , 0.16666667,\n",
       "         0.        , 0.        , 0.        ],\n",
       "        [0.        , 0.16666667, 0.        , 0.        , 0.        ,\n",
       "         0.        , 0.        , 0.        , 0.        , 0.        ,\n",
       "         0.16666667, 0.        , 0.        , 0.        , 0.        ,\n",
       "         0.        , 0.        , 0.16666667, 0.        , 0.        ,\n",
       "         0.16666667, 0.        , 0.16666667, 0.        , 0.16666667,\n",
       "         0.        , 0.        , 0.        ],\n",
       "        [0.        , 0.        , 0.2       , 0.        , 0.        ,\n",
       "         0.        , 0.        , 0.        , 0.        , 0.        ,\n",
       "         0.2       , 0.        , 0.        , 0.        , 0.        ,\n",
       "         0.        , 0.        , 0.2       , 0.        , 0.        ,\n",
       "         0.        , 0.        , 0.2       , 0.        , 0.2       ,\n",
       "         0.        , 0.        , 0.        ],\n",
       "        [0.        , 0.        , 0.        , 0.14285715, 0.        ,\n",
       "         0.        , 0.        , 0.        , 0.        , 0.        ,\n",
       "         0.        , 0.        , 0.        , 0.14285715, 0.        ,\n",
       "         0.        , 0.        , 0.14285715, 0.        , 0.        ,\n",
       "         0.14285715, 0.        , 0.        , 0.14285715, 0.        ,\n",
       "         0.        , 0.14285715, 0.14285715],\n",
       "        [0.        , 0.        , 0.        , 0.        , 0.16666667,\n",
       "         0.        , 0.        , 0.        , 0.        , 0.        ,\n",
       "         0.        , 0.        , 0.        , 0.16666667, 0.        ,\n",
       "         0.        , 0.        , 0.16666667, 0.        , 0.        ,\n",
       "         0.        , 0.        , 0.        , 0.16666667, 0.        ,\n",
       "         0.        , 0.16666667, 0.16666667],\n",
       "        [0.        , 0.        , 0.        , 0.        , 0.        ,\n",
       "         0.16666667, 0.        , 0.        , 0.        , 0.        ,\n",
       "         0.        , 0.        , 0.        , 0.16666667, 0.        ,\n",
       "         0.        , 0.        , 0.16666667, 0.        , 0.        ,\n",
       "         0.        , 0.16666667, 0.        , 0.16666667, 0.        ,\n",
       "         0.        , 0.        , 0.16666667],\n",
       "        [0.        , 0.        , 0.        , 0.        , 0.        ,\n",
       "         0.        , 0.1       , 0.        , 0.        , 0.        ,\n",
       "         0.1       , 0.1       , 0.1       , 0.        , 0.        ,\n",
       "         0.        , 0.1       , 0.1       , 0.1       , 0.1       ,\n",
       "         0.        , 0.        , 0.1       , 0.        , 0.        ,\n",
       "         0.1       , 0.        , 0.        ],\n",
       "        [0.        , 0.        , 0.        , 0.        , 0.        ,\n",
       "         0.        , 0.        , 0.1       , 0.        , 0.        ,\n",
       "         0.1       , 0.1       , 0.        , 0.        , 0.1       ,\n",
       "         0.1       , 0.        , 0.1       , 0.1       , 0.1       ,\n",
       "         0.        , 0.1       , 0.1       , 0.        , 0.        ,\n",
       "         0.        , 0.        , 0.        ],\n",
       "        [0.        , 0.        , 0.        , 0.        , 0.        ,\n",
       "         0.        , 0.        , 0.        , 0.11111111, 0.11111111,\n",
       "         0.11111111, 0.11111111, 0.        , 0.        , 0.11111111,\n",
       "         0.11111111, 0.        , 0.11111111, 0.        , 0.11111111,\n",
       "         0.        , 0.        , 0.11111111, 0.        , 0.        ,\n",
       "         0.        , 0.        , 0.        ]], dtype=float32)"
      ]
     },
     "execution_count": 166,
     "metadata": {},
     "output_type": "execute_result"
    }
   ],
   "source": [
    "f_tuple = ((r['id'], r['ingredients']) for i,r in recipes.iterrows())\n",
    "item_features = dataset.build_item_features(f_tuple)\n",
    "print(repr(item_features))\n",
    "\n",
    "item_features.todense()"
   ]
  },
  {
   "cell_type": "code",
   "execution_count": 167,
   "id": "dfd08373",
   "metadata": {},
   "outputs": [
    {
     "data": {
      "text/plain": [
       "({0: 0, 1: 1, 2: 2},\n",
       " {0: 0, 1: 1, 2: 2},\n",
       " {0: 0, 1: 1, 2: 2, 3: 3, 4: 4, 5: 5, 6: 6, 7: 7, 8: 8},\n",
       " {0: 0,\n",
       "  1: 1,\n",
       "  2: 2,\n",
       "  3: 3,\n",
       "  4: 4,\n",
       "  5: 5,\n",
       "  6: 6,\n",
       "  7: 7,\n",
       "  8: 8,\n",
       "  'lens': 9,\n",
       "  'oil': 10,\n",
       "  'pepper': 11,\n",
       "  'noodle': 12,\n",
       "  'butter': 13,\n",
       "  'carrots': 14,\n",
       "  'potatoes': 15,\n",
       "  'beef': 16,\n",
       "  'salt': 17,\n",
       "  'kardamon': 18,\n",
       "  'onions': 19,\n",
       "  'chicken': 20,\n",
       "  'lamb': 21,\n",
       "  'water': 22,\n",
       "  'rice': 23,\n",
       "  'curry': 24,\n",
       "  'chile': 25,\n",
       "  'beans': 26,\n",
       "  'eggs': 27})"
      ]
     },
     "execution_count": 167,
     "metadata": {},
     "output_type": "execute_result"
    }
   ],
   "source": [
    "user_id_map, user_feature_map, item_id_map, item_feature_map = dataset.mapping()\n",
    "item_feature_map\n",
    "\n",
    "dataset.mapping()"
   ]
  },
  {
   "cell_type": "code",
   "execution_count": 168,
   "id": "750e2964",
   "metadata": {},
   "outputs": [
    {
     "name": "stdout",
     "output_type": "stream",
     "text": [
      "Hybrid training set AUC: nan\n"
     ]
    }
   ],
   "source": [
    "model = LightFM(loss='warp')\n",
    "model.fit(interactions,\n",
    "      item_features=item_features,\n",
    "      sample_weight=weights,\n",
    "      epochs=2)\n",
    "\n",
    "train_auc = auc_score(model,\n",
    "                      interactions,\n",
    "                      item_features=item_features\n",
    "                     ).mean()\n",
    "print('Hybrid training set AUC: %s' % train_auc)"
   ]
  },
  {
   "cell_type": "markdown",
   "id": "1269559e",
   "metadata": {},
   "source": [
    "##### Find Similar Items"
   ]
  },
  {
   "cell_type": "code",
   "execution_count": 172,
   "id": "0a8e5142",
   "metadata": {},
   "outputs": [
    {
     "name": "stdout",
     "output_type": "stream",
     "text": [
      "Recommended item: ['Chicken Curry' 'Vegetable Curry' 'Lamb Fried Rice']\n"
     ]
    }
   ],
   "source": [
    "recipe_names = recipes['name'].values\n",
    "\n",
    "def similar_items(item_id, item_features, model, N=4):\n",
    "    (item_biased, item_representations) = model.get_item_representations(features=item_features)\n",
    "    # Cosine similarity\n",
    "    scores = item_representations.dot(item_representations[item_id])\n",
    "    #for s in scores:\n",
    "    #    print(s)\n",
    "    item_norms = np.linalg.norm(item_representations, axis=1)\n",
    "    scores /= item_norms\n",
    "    best = np.argpartition(scores, -N)[-N:]\n",
    "    \n",
    "    top_similar_items = recipe_names[np.argsort(-scores)]\n",
    "    print(\"Recommended item: %s\" % top_similar_items[1:N])\n",
    "    \n",
    "    return sorted(zip(best, scores[best] / item_norms[item_id]),\n",
    "                  key=lambda x: -x[1])\n",
    "\n",
    "result = similar_items(0, item_features, model) # Lamb Curry"
   ]
  },
  {
   "cell_type": "code",
   "execution_count": 178,
   "id": "83943765",
   "metadata": {},
   "outputs": [
    {
     "name": "stdout",
     "output_type": "stream",
     "text": [
      "Recommended item: ['Fried Rice' 'Lamb Curry' 'Vegetable Fried Rice']\n"
     ]
    }
   ],
   "source": [
    "result = similar_items(5, item_features, model) # Lamb Fried Rice"
   ]
  },
  {
   "cell_type": "code",
   "execution_count": 176,
   "id": "45d807de",
   "metadata": {},
   "outputs": [
    {
     "name": "stdout",
     "output_type": "stream",
     "text": [
      "Recommended item: ['Lamb Soup' 'Pho Soup' 'Vegetable Curry']\n"
     ]
    }
   ],
   "source": [
    "result = similar_items(8, item_features, model) # Lens Soup"
   ]
  },
  {
   "cell_type": "code",
   "execution_count": 153,
   "id": "3c72eea6",
   "metadata": {},
   "outputs": [
    {
     "data": {
      "text/html": [
       "<div>\n",
       "<style scoped>\n",
       "    .dataframe tbody tr th:only-of-type {\n",
       "        vertical-align: middle;\n",
       "    }\n",
       "\n",
       "    .dataframe tbody tr th {\n",
       "        vertical-align: top;\n",
       "    }\n",
       "\n",
       "    .dataframe thead th {\n",
       "        text-align: right;\n",
       "    }\n",
       "</style>\n",
       "<table border=\"1\" class=\"dataframe\">\n",
       "  <thead>\n",
       "    <tr style=\"text-align: right;\">\n",
       "      <th></th>\n",
       "      <th>id</th>\n",
       "      <th>name</th>\n",
       "      <th>ingredients</th>\n",
       "      <th>tags</th>\n",
       "    </tr>\n",
       "  </thead>\n",
       "  <tbody>\n",
       "    <tr>\n",
       "      <th>0</th>\n",
       "      <td>0</td>\n",
       "      <td>Lamb Curry</td>\n",
       "      <td>[lamb, curry, oil, water, salt]</td>\n",
       "      <td>non-veg</td>\n",
       "    </tr>\n",
       "    <tr>\n",
       "      <th>1</th>\n",
       "      <td>1</td>\n",
       "      <td>Chicken Curry</td>\n",
       "      <td>[chicken, curry, oil, water, salt]</td>\n",
       "      <td>non-veg</td>\n",
       "    </tr>\n",
       "    <tr>\n",
       "      <th>2</th>\n",
       "      <td>2</td>\n",
       "      <td>Vegetable Curry</td>\n",
       "      <td>[curry, oil, water, salt]</td>\n",
       "      <td>veg</td>\n",
       "    </tr>\n",
       "    <tr>\n",
       "      <th>3</th>\n",
       "      <td>3</td>\n",
       "      <td>Fried Rice</td>\n",
       "      <td>[rice, chicken, eggs, beans, butter, salt]</td>\n",
       "      <td>non-veg</td>\n",
       "    </tr>\n",
       "    <tr>\n",
       "      <th>4</th>\n",
       "      <td>4</td>\n",
       "      <td>Vegetable Fried Rice</td>\n",
       "      <td>[rice, eggs, butter, beans, salt]</td>\n",
       "      <td>veg</td>\n",
       "    </tr>\n",
       "    <tr>\n",
       "      <th>5</th>\n",
       "      <td>5</td>\n",
       "      <td>Lamb Fried Rice</td>\n",
       "      <td>[rice, lamb, eggs, butter, salt]</td>\n",
       "      <td>non-veg</td>\n",
       "    </tr>\n",
       "    <tr>\n",
       "      <th>6</th>\n",
       "      <td>6</td>\n",
       "      <td>Pho Soup</td>\n",
       "      <td>[noodle, beef, kardamon, oil, water, salt, pep...</td>\n",
       "      <td>non-veg</td>\n",
       "    </tr>\n",
       "    <tr>\n",
       "      <th>7</th>\n",
       "      <td>7</td>\n",
       "      <td>Lamb Soup</td>\n",
       "      <td>[lamb, potatoes, carrots, kardamon, oil, water...</td>\n",
       "      <td>non-veg</td>\n",
       "    </tr>\n",
       "    <tr>\n",
       "      <th>8</th>\n",
       "      <td>8</td>\n",
       "      <td>Lens Soup</td>\n",
       "      <td>[lens, potatoes, carrots, oil, water, salt, pe...</td>\n",
       "      <td>veg</td>\n",
       "    </tr>\n",
       "  </tbody>\n",
       "</table>\n",
       "</div>"
      ],
      "text/plain": [
       "   id                  name  \\\n",
       "0   0            Lamb Curry   \n",
       "1   1         Chicken Curry   \n",
       "2   2       Vegetable Curry   \n",
       "3   3            Fried Rice   \n",
       "4   4  Vegetable Fried Rice   \n",
       "5   5       Lamb Fried Rice   \n",
       "6   6              Pho Soup   \n",
       "7   7             Lamb Soup   \n",
       "8   8             Lens Soup   \n",
       "\n",
       "                                         ingredients     tags  \n",
       "0                    [lamb, curry, oil, water, salt]  non-veg  \n",
       "1                 [chicken, curry, oil, water, salt]  non-veg  \n",
       "2                          [curry, oil, water, salt]      veg  \n",
       "3         [rice, chicken, eggs, beans, butter, salt]  non-veg  \n",
       "4                  [rice, eggs, butter, beans, salt]      veg  \n",
       "5                   [rice, lamb, eggs, butter, salt]  non-veg  \n",
       "6  [noodle, beef, kardamon, oil, water, salt, pep...  non-veg  \n",
       "7  [lamb, potatoes, carrots, kardamon, oil, water...  non-veg  \n",
       "8  [lens, potatoes, carrots, oil, water, salt, pe...      veg  "
      ]
     },
     "execution_count": 153,
     "metadata": {},
     "output_type": "execute_result"
    }
   ],
   "source": [
    "recipes"
   ]
  },
  {
   "cell_type": "code",
   "execution_count": 184,
   "id": "2da5ba07",
   "metadata": {},
   "outputs": [
    {
     "name": "stdout",
     "output_type": "stream",
     "text": [
      "Recommended item: ['Vegetable Fried Rice' 'Lens Soup' 'Vegetable Curry']\n"
     ]
    }
   ],
   "source": [
    "recipe_names = recipes['name'].values\n",
    "\n",
    "def sample_recommendation(model, data, user_id):\n",
    "    n_user, n_items = data.shape\n",
    "    scores = model.predict(user_id, np.arange(n_items))\n",
    "    #print(\"Scores:\")\n",
    "    #for i in scores:\n",
    "    #    print(i)\n",
    "    top_items_for_user = recipe_names[np.argsort(-scores)]\n",
    "    print(\"Recommended item: %s\" % top_items_for_user[:3])\n",
    "    \n",
    "sample_recommendation(model, interactions, 0) # Jana"
   ]
  },
  {
   "cell_type": "code",
   "execution_count": 185,
   "id": "8ec0cba5",
   "metadata": {},
   "outputs": [
    {
     "name": "stdout",
     "output_type": "stream",
     "text": [
      "Recommended item: ['Vegetable Curry' 'Lamb Curry' 'Pho Soup']\n"
     ]
    }
   ],
   "source": [
    "sample_recommendation(model, interactions, 1) # Ilya"
   ]
  },
  {
   "cell_type": "code",
   "execution_count": 186,
   "id": "f97b0666",
   "metadata": {},
   "outputs": [
    {
     "name": "stdout",
     "output_type": "stream",
     "text": [
      "Recommended item: ['Lamb Curry' 'Chicken Curry' 'Pho Soup']\n"
     ]
    }
   ],
   "source": [
    "sample_recommendation(model, interactions, 2) # Mansur"
   ]
  }
 ],
 "metadata": {
  "kernelspec": {
   "display_name": "Python 3 (ipykernel)",
   "language": "python",
   "name": "python3"
  },
  "language_info": {
   "codemirror_mode": {
    "name": "ipython",
    "version": 3
   },
   "file_extension": ".py",
   "mimetype": "text/x-python",
   "name": "python",
   "nbconvert_exporter": "python",
   "pygments_lexer": "ipython3",
   "version": "3.8.10"
  }
 },
 "nbformat": 4,
 "nbformat_minor": 5
}
